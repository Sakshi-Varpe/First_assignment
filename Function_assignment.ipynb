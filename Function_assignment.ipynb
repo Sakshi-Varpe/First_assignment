{
 "cells": [
  {
   "cell_type": "markdown",
   "id": "25991681-6162-4130-bf74-549b4d4b2d94",
   "metadata": {},
   "source": [
    "# Function Assignment"
   ]
  },
  {
   "cell_type": "markdown",
   "id": "4e7463cb-bf28-4579-acc9-4f15b0db6b1b",
   "metadata": {},
   "source": [
    "Problem-1: Write a Python function that takes a list and returns a new list with unique elements of the first list.\n",
    "Exercise 1:\n",
    "\n",
    "Input:\n",
    "\n",
    "[1,2,3,3,3,3,4,5]\n",
    "\n",
    "Output:\n",
    "\n",
    "[1, 2, 3, 4, 5]\n",
    "[ ]\n"
   ]
  },
  {
   "cell_type": "code",
   "execution_count": 3,
   "id": "96e988c1-7896-4901-b615-fc509fc4256e",
   "metadata": {},
   "outputs": [
    {
     "name": "stdout",
     "output_type": "stream",
     "text": [
      "[1, 2, 3, 4, 5]\n"
     ]
    }
   ],
   "source": [
    "def unique_elements(input_list):\n",
    "    return list(set(input_list))\n",
    "\n",
    "# Example usage\n",
    "input_list = [1, 2, 3, 3, 3, 3, 4, 5]\n",
    "output_list = unique_elements(input_list)\n",
    "print(output_list)  # Output: [1, 2, 3, 4, 5]"
   ]
  },
  {
   "cell_type": "markdown",
   "id": "9940db7d-a999-4e7e-aca7-5e281a5593ac",
   "metadata": {},
   "source": [
    "Problem-2: Write a Python function that accepts a hyphen-separated sequence of words as parameter\n",
    "and returns the words in a hyphen-separated sequence after sorting them alphabetically.\n",
    "Example 1:\n",
    "\n",
    "Input:\n",
    "\n",
    "green-red-yellow-black-white\n",
    "\n",
    "Output:\n",
    "\n",
    "black-green-red-white-yellow"
   ]
  },
  {
   "cell_type": "code",
   "execution_count": 4,
   "id": "6dcac908-0d46-4565-b75c-9d185c5d9b69",
   "metadata": {},
   "outputs": [
    {
     "name": "stdout",
     "output_type": "stream",
     "text": [
      "black-green-red-white-yellow\n"
     ]
    }
   ],
   "source": [
    "def sort_hyphenated_sequence(sequence):\n",
    "    words = sequence.split('-')\n",
    "    words.sort()\n",
    "    return '-'.join(words)\n",
    "\n",
    "# Example usage\n",
    "input_sequence = \"green-red-yellow-black-white\"\n",
    "output_sequence = sort_hyphenated_sequence(input_sequence)\n",
    "print(output_sequence)  # Output: black-green-red-white-yellow"
   ]
  },
  {
   "cell_type": "markdown",
   "id": "0786c568-72f7-43c1-a8c8-addfaa21cd2e",
   "metadata": {},
   "source": [
    "Problem 3: Write a Python function that accepts a string and calculate the number of upper case letters and lower case letters.\n",
    "Sample String : 'CampusX is an Online Mentorship Program fOr EnginEering studentS.'\n",
    "Expected Output :\n",
    "No. of Upper case characters :  9\n",
    "No. of Lower case Characters :  47"
   ]
  },
  {
   "cell_type": "code",
   "execution_count": 5,
   "id": "9099158b-fde2-4fc8-8834-8c688e41fe41",
   "metadata": {},
   "outputs": [
    {
     "name": "stdout",
     "output_type": "stream",
     "text": [
      "No. of Upper case characters: 9\n",
      "No. of Lower case Characters: 47\n"
     ]
    }
   ],
   "source": [
    "def count_case_characters(input_string):\n",
    "    upper_case_count = sum(1 for char in input_string if char.isupper())\n",
    "    lower_case_count = sum(1 for char in input_string if char.islower())\n",
    "    return upper_case_count, lower_case_count\n",
    "\n",
    "# Example usage\n",
    "sample_string = 'CampusX is an Online Mentorship Program fOr EnginEering studentS.'\n",
    "upper_case, lower_case = count_case_characters(sample_string)\n",
    "print(\"No. of Upper case characters:\", upper_case)\n",
    "print(\"No. of Lower case Characters:\", lower_case)\n",
    "\n",
    "# Expected Output:\n",
    "# No. of Upper case characters: 9\n",
    "# No. of Lower case Characters: 47\n"
   ]
  },
  {
   "cell_type": "markdown",
   "id": "29709189-138b-490e-934b-c81262208051",
   "metadata": {},
   "source": [
    "Problem 4: Write a Python program to print the even numbers from a given list.\n",
    "Sample List : [1, 2, 3, 4, 5, 6, 7, 8, 9]\n",
    "Expected Result : [2, 4, 6, 8]"
   ]
  },
  {
   "cell_type": "code",
   "execution_count": 6,
   "id": "0a585e74-01e9-49ef-a09c-0bb382f23244",
   "metadata": {},
   "outputs": [
    {
     "name": "stdout",
     "output_type": "stream",
     "text": [
      "[2, 4, 6, 8]\n"
     ]
    }
   ],
   "source": [
    "def get_even_numbers(lst):\n",
    "    even_numbers = [num for num in lst if num % 2 == 0]\n",
    "    return even_numbers\n",
    "\n",
    "# Sample List\n",
    "sample_list = [1, 2, 3, 4, 5, 6, 7, 8, 9]\n",
    "\n",
    "# Get even numbers from the sample list\n",
    "result = get_even_numbers(sample_list)\n",
    "\n",
    "# Print the result\n",
    "print(result)"
   ]
  },
  {
   "cell_type": "markdown",
   "id": "0ba4596e-19cf-4d96-98fb-8fb60a33bc6b",
   "metadata": {},
   "source": [
    "Problem 5: Write a Python function to check whether a number is perfect or not.\n",
    "A Perfect number is a number that is half the sum of all of its positive divisors (including itself).\n",
    "\n",
    "Example :\n",
    "\n",
    "The first perfect number is 6, because 1, 2, and 3 are its proper positive divisors, and 1 + 2 + 3 = 6. \n",
    "Equivalently, the number 6 is equal to half the sum of all its positive divisors: ( 1 + 2 + 3 + 6 ) / 2 = 6. \n",
    "\n",
    "The next perfect number is 28 = 1 + 2 + 4 + 7 + 14. This is followed by the perfect numbers 496 and 8128."
   ]
  },
  {
   "cell_type": "code",
   "execution_count": 7,
   "id": "6ebc9d0f-e5b4-4dfc-8faa-5a53536f6d6c",
   "metadata": {},
   "outputs": [
    {
     "name": "stdout",
     "output_type": "stream",
     "text": [
      "True\n",
      "True\n",
      "True\n",
      "True\n",
      "False\n"
     ]
    }
   ],
   "source": [
    "def is_perfect_number(n):\n",
    "    # Find all divisors of n\n",
    "    divisors = [i for i in range(1, n) if n % i == 0]\n",
    "    \n",
    "    # Check if the sum of divisors equals the number\n",
    "    return sum(divisors) == n\n",
    "\n",
    "# Test the function with some examples\n",
    "print(is_perfect_number(6))   # True\n",
    "print(is_perfect_number(28))  # True\n",
    "print(is_perfect_number(496)) # True\n",
    "print(is_perfect_number(8128))# True\n",
    "print(is_perfect_number(10))  # False"
   ]
  },
  {
   "cell_type": "markdown",
   "id": "74619358-abe4-4548-afea-15382f30066d",
   "metadata": {},
   "source": [
    "Problem-6: Write a Python function to concatenate any no of dictionaries to create a new one.\n",
    "Sample Dictionary :\n",
    "\n",
    "dic1={1:10, 2:20}\n",
    "\n",
    "dic2={3:30, 4:40}\n",
    "\n",
    "dic3={5:50,6:60}\n",
    "\n",
    "Expected Result : {1: 10, 2: 20, 3: 30, 4: 40, 5: 50, 6: 60}"
   ]
  },
  {
   "cell_type": "code",
   "execution_count": 8,
   "id": "b19dd23a-0b8a-4e27-a964-2818f8b906b1",
   "metadata": {},
   "outputs": [
    {
     "name": "stdout",
     "output_type": "stream",
     "text": [
      "{1: 10, 2: 20, 3: 30, 4: 40, 5: 50, 6: 60}\n"
     ]
    }
   ],
   "source": [
    "def concatenate_dictionaries(*dicts):\n",
    "    result = {}\n",
    "    for d in dicts:\n",
    "        result.update(d)\n",
    "    return result\n",
    "\n",
    "# Sample dictionaries\n",
    "dic1 = {1: 10, 2: 20}\n",
    "dic2 = {3: 30, 4: 40}\n",
    "dic3 = {5: 50, 6: 60}\n",
    "\n",
    "# Concatenate dictionaries\n",
    "result = concatenate_dictionaries(dic1, dic2, dic3)\n",
    "\n",
    "# Print the result\n",
    "print(result)"
   ]
  },
  {
   "cell_type": "markdown",
   "id": "15d6942b-6792-429b-9d4c-2689e2e8399f",
   "metadata": {},
   "source": [
    "Problem-7 Write a python function that accepts a string as input and returns the word with most occurence.\n",
    "\n",
    "Input:\n",
    "hello how are you i am fine thank you\n",
    "\n",
    "Output\n",
    "you -> 2"
   ]
  },
  {
   "cell_type": "code",
   "execution_count": 9,
   "id": "852ecc3d-4acb-4615-9b4e-cd5cf6911372",
   "metadata": {},
   "outputs": [
    {
     "name": "stdout",
     "output_type": "stream",
     "text": [
      "you -> 2\n"
     ]
    }
   ],
   "source": [
    "def most_frequent_word(s):\n",
    "    # Split the string into words\n",
    "    words = s.split()\n",
    "    \n",
    "    # Create a dictionary to count occurrences of each word\n",
    "    word_count = {}\n",
    "    for word in words:\n",
    "        if word in word_count:\n",
    "            word_count[word] += 1\n",
    "        else:\n",
    "            word_count[word] = 1\n",
    "    \n",
    "    # Find the word with the maximum count\n",
    "    most_frequent = max(word_count, key=word_count.get)\n",
    "    \n",
    "    return most_frequent, word_count[most_frequent]\n",
    "\n",
    "# Input string\n",
    "input_string = \"hello how are you i am fine thank you\"\n",
    "\n",
    "# Get the most frequent word\n",
    "word, count = most_frequent_word(input_string)\n",
    "\n",
    "# Print the result\n",
    "print(f\"{word} -> {count}\")"
   ]
  },
  {
   "cell_type": "markdown",
   "id": "3ce95210-295d-4107-bc17-e721a338ab9c",
   "metadata": {},
   "source": [
    "Problem-8 Write a python function that receives a list of integers and prints out a histogram of bin size 10\n",
    "\n",
    "Input:\n",
    "[13,42,15,37,22,39,41,50]\n",
    "\n",
    "Output:\n",
    "{11-20:2,21-30:1,31-40:2,41-50:3}"
   ]
  },
  {
   "cell_type": "code",
   "execution_count": 10,
   "id": "0d48c265-279b-46d3-b2c8-d71410611057",
   "metadata": {},
   "outputs": [
    {
     "name": "stdout",
     "output_type": "stream",
     "text": [
      "11-20:2\n",
      "21-30:1\n",
      "31-40:2\n",
      "41-50:2\n",
      "51-60:1\n"
     ]
    }
   ],
   "source": [
    "def create_histogram(lst):\n",
    "    # Create an empty dictionary to store the histogram\n",
    "    histogram = {}\n",
    "\n",
    "    # Iterate over the list and calculate the bin for each number\n",
    "    for number in lst:\n",
    "        bin_start = (number // 10) * 10 + 1\n",
    "        bin_end = bin_start + 9\n",
    "        bin_range = f\"{bin_start}-{bin_end}\"\n",
    "\n",
    "        if bin_range in histogram:\n",
    "            histogram[bin_range] += 1\n",
    "        else:\n",
    "            histogram[bin_range] = 1\n",
    "\n",
    "    # Print the histogram\n",
    "    for bin_range in sorted(histogram):\n",
    "        print(f\"{bin_range}:{histogram[bin_range]}\")\n",
    "\n",
    "# Input list\n",
    "input_list = [13, 42, 15, 37, 22, 39, 41, 50]\n",
    "\n",
    "# Create and print the histogram\n",
    "create_histogram(input_list)"
   ]
  },
  {
   "cell_type": "markdown",
   "id": "7e81c08d-cfdb-4e4a-b919-8a8e76bab525",
   "metadata": {},
   "source": [
    "Problem-9 Write a python function that accepts a list of 2D co-ordinates and a query point, and \n",
    "then finds the the co-ordinate which is closest in terms of distance from the query point.\n",
    "\n",
    "List of Coordinates\n",
    "[(1,1),(2,2),(3,3),(4,4)]\n",
    "\n",
    "Query Point\n",
    "(0,0)\n",
    "\n",
    "Output\n",
    "Nearest to (0,0) is (1,1)"
   ]
  },
  {
   "cell_type": "code",
   "execution_count": 11,
   "id": "f1ff8725-1a95-4b26-9d29-dc093a95a3c6",
   "metadata": {},
   "outputs": [
    {
     "name": "stdout",
     "output_type": "stream",
     "text": [
      "Nearest to (0, 0) is (1, 1)\n"
     ]
    }
   ],
   "source": [
    "import math\n",
    "\n",
    "def find_nearest_coordinate(coords, query_point):\n",
    "    min_distance = float('inf')\n",
    "    nearest_coord = None\n",
    "    \n",
    "    for coord in coords:\n",
    "        distance = math.sqrt((coord[0] - query_point[0]) * 2 + (coord[1] - query_point[1]) * 2)\n",
    "        if distance < min_distance:\n",
    "            min_distance = distance\n",
    "            nearest_coord = coord\n",
    "    \n",
    "    return nearest_coord\n",
    "\n",
    "# List of Coordinates\n",
    "coordinates = [(1, 1), (2, 2), (3, 3), (4, 4)]\n",
    "\n",
    "# Query Point\n",
    "query_point = (0, 0)\n",
    "\n",
    "# Find the nearest coordinate\n",
    "nearest = find_nearest_coordinate(coordinates, query_point)\n",
    "\n",
    "# Print the result\n",
    "print(f\"Nearest to {query_point} is {nearest}\")"
   ]
  },
  {
   "cell_type": "markdown",
   "id": "a74f4613-b169-43c7-84ff-ea5cc54307a8",
   "metadata": {},
   "source": [
    "Problem-10:Write a python program that receives a list of strings and performs bag of word operation on those strings\n",
    "\n",
    "https://en.wikipedia.org/wiki/Bag-of-words_model\n",
    "\n"
   ]
  },
  {
   "cell_type": "code",
   "execution_count": 13,
   "id": "1cfdabff-2f01-456e-a72a-6c6c10cf98ba",
   "metadata": {},
   "outputs": [
    {
     "name": "stdout",
     "output_type": "stream",
     "text": [
      "the: 3\n",
      "quick: 2\n",
      "brown: 1\n",
      "fox: 1\n",
      "jumps: 1\n",
      "over: 1\n",
      "lazy: 1\n",
      "dog: 1\n",
      "blue: 1\n",
      "cat: 1\n"
     ]
    }
   ],
   "source": [
    "def bag_of_words(strings):\n",
    "    # Create an empty dictionary to store the bag-of-words\n",
    "    bow = {}\n",
    "    \n",
    "    # Iterate over each string in the list\n",
    "    for string in strings:\n",
    "        # Split the string into words\n",
    "        words = string.split()\n",
    "        \n",
    "        # Iterate over each word in the string\n",
    "        for word in words:\n",
    "            # Convert word to lowercase to make the count case-insensitive\n",
    "            word = word.lower()\n",
    "            \n",
    "            # Increment the count of the word in the dictionary\n",
    "            if word in bow:\n",
    "                bow[word] += 1\n",
    "            else:\n",
    "                bow[word] = 1\n",
    "    \n",
    "    return bow\n",
    "\n",
    "# List of strings\n",
    "strings = [\n",
    "    \"The quick brown fox\",\n",
    "    \"jumps over the lazy dog\",\n",
    "    \"The quick blue cat\"\n",
    "]\n",
    "\n",
    "# Perform bag-of-words operation\n",
    "bow_result = bag_of_words(strings)\n",
    "\n",
    "# Print the result\n",
    "for word, count in bow_result.items():\n",
    "    print(f\"{word}: {count}\")"
   ]
  },
  {
   "cell_type": "markdown",
   "id": "a2cc8d98-60cb-4265-82a5-92023d279d7d",
   "metadata": {},
   "source": [
    "Problem 11: Write a Python program to add three given lists using Python map and lambda."
   ]
  },
  {
   "cell_type": "code",
   "execution_count": 16,
   "id": "1214cf77-3e16-4fdf-a1c1-f777b57d203e",
   "metadata": {},
   "outputs": [
    {
     "name": "stdout",
     "output_type": "stream",
     "text": [
      "[18, 21, 24, 27, 30]\n"
     ]
    }
   ],
   "source": [
    "list1 = [1, 2, 3, 4, 5]\n",
    "list2 = [6, 7, 8, 9, 10]\n",
    "list3 = [11, 12, 13, 14, 15]\n",
    "\n",
    "# Using map and lambda to add corresponding elements\n",
    "result = list(map(lambda x, y, z: x + y + z, list1, list2, list3))\n",
    "\n",
    "# Print the result\n",
    "print(result)"
   ]
  },
  {
   "cell_type": "markdown",
   "id": "b62000e7-0f3a-47f0-9bf5-0d6f654ce2c0",
   "metadata": {},
   "source": [
    "Problem-12:Write a Python program to create a list containing the power of said number in bases raised to \n",
    "the corresponding number in the index using Python map.\n",
    "Input:\n",
    "list1 = [1,2,3,4,5,6]\n",
    "\n",
    "Output:\n",
    "[1,2,9,64,625,-]"
   ]
  },
  {
   "cell_type": "code",
   "execution_count": 17,
   "id": "e782c6dc-90ea-409a-9da7-a76b669e561f",
   "metadata": {},
   "outputs": [
    {
     "name": "stdout",
     "output_type": "stream",
     "text": [
      "[1, 2, 9, 64, 625, 7776]\n"
     ]
    }
   ],
   "source": [
    "list1 = [1, 2, 3, 4, 5, 6]\n",
    "\n",
    "# Using map with lambda function to compute power of elements\n",
    "result = list(map(lambda base, exponent: base ** exponent, list1, range(len(list1))))\n",
    "\n",
    "# Print the result\n",
    "print(result)"
   ]
  },
  {
   "cell_type": "markdown",
   "id": "3b80242f-d4e0-4972-8236-d56ee2a7d294",
   "metadata": {},
   "source": [
    "Problem-13 Using filter() and list() functions and .lower() method filter all the vowels in a given string.\n"
   ]
  },
  {
   "cell_type": "code",
   "execution_count": 18,
   "id": "3a0d397e-ffeb-4d34-a8a9-7ad85c60e3c6",
   "metadata": {},
   "outputs": [
    {
     "name": "stdout",
     "output_type": "stream",
     "text": [
      "['e', 'o', 'o', 'o', 'a', 'e', 'o', 'u']\n"
     ]
    }
   ],
   "source": [
    "def filter_vowels(s):\n",
    "    vowels = \"aeiou\"\n",
    "    filtered_vowels = list(filter(lambda x: x.lower() in vowels, s))\n",
    "    return filtered_vowels\n",
    "\n",
    "# Example string\n",
    "input_string = \"Hello World! How are you?\"\n",
    "\n",
    "# Filter vowels\n",
    "filtered_vowels = filter_vowels(input_string)\n",
    "\n",
    "# Print the result\n",
    "print(filtered_vowels)"
   ]
  },
  {
   "cell_type": "markdown",
   "id": "fd587934-6e67-4c48-a1b3-73d7e874bb6d",
   "metadata": {},
   "source": [
    "Problem-14: Use reduce to convert a 2D list to 1D"
   ]
  },
  {
   "cell_type": "code",
   "execution_count": 19,
   "id": "025a79b3-d95f-447b-8a08-5f616228fe0f",
   "metadata": {},
   "outputs": [
    {
     "name": "stdout",
     "output_type": "stream",
     "text": [
      "[1, 2, 3, 4, 5, 6, 7, 8, 9]\n"
     ]
    }
   ],
   "source": [
    "from functools import reduce\n",
    "\n",
    "# Example 2D list\n",
    "list_2d = [[1, 2, 3], [4, 5], [6, 7, 8, 9]]\n",
    "\n",
    "# Using reduce to flatten the 2D list to 1D list\n",
    "list_1d = reduce(lambda x, y: x + y, list_2d)\n",
    "\n",
    "# Print the result\n",
    "print(list_1d)"
   ]
  },
  {
   "cell_type": "markdown",
   "id": "91d4e7b4-2409-4896-a006-612850cad4ad",
   "metadata": {},
   "source": [
    "Problem 15- A dictionary contains following information about 5 employees:\n",
    "\n",
    "First name\n",
    "Last name\n",
    "Age\n",
    "Grade(Skilled,Semi-skilled,Highly skilled)\n",
    "Write a program using map/filter/reduce to a list of employees(first name + last name) who are highly skilled\n",
    "[ ]\n",
    "# Write code here\n",
    "employees = [\n",
    "    {\n",
    "        'fname':'Nitish',\n",
    "        'lname':'Singh',\n",
    "        'age' : 33,\n",
    "        'grade':'skilled'\n",
    "    },\n",
    "    {\n",
    "        'fname':'Ankit',\n",
    "\n",
    "[ ]\n",
    "list(map(lambda x:x['fname'] + ' ' + x['lname'],list(filter(lambda x:True if x['grade'] == 'highly-skilled' else False,employees))))\n",
    "['Neha Singh', 'Abhinav Sharma']\n",
    "[ ]\n",
    "\n",
    "Start coding or generate with AI.\n",
    "Colab paid products - Cancel contracts here\n"
   ]
  },
  {
   "cell_type": "code",
   "execution_count": 20,
   "id": "6f9cbab2-4578-448b-882d-3f1356595176",
   "metadata": {},
   "outputs": [
    {
     "name": "stdout",
     "output_type": "stream",
     "text": [
      "['Ankit Sharma', 'Neha Singh', 'Priya Gupta']\n"
     ]
    }
   ],
   "source": [
    "from functools import reduce\n",
    "\n",
    "employees = [\n",
    "    {\n",
    "        'fname': 'Nitish',\n",
    "        'lname': 'Singh',\n",
    "        'age': 33,\n",
    "        'grade': 'skilled'\n",
    "    },\n",
    "    {\n",
    "        'fname': 'Ankit',\n",
    "        'lname': 'Sharma',\n",
    "        'age': 28,\n",
    "        'grade': 'highly skilled'\n",
    "    },\n",
    "    {\n",
    "        'fname': 'Neha',\n",
    "        'lname': 'Singh',\n",
    "        'age': 30,\n",
    "        'grade': 'highly skilled'\n",
    "    },\n",
    "    {\n",
    "        'fname': 'Abhinav',\n",
    "        'lname': 'Sharma',\n",
    "        'age': 35,\n",
    "        'grade': 'semi-skilled'\n",
    "    },\n",
    "    {\n",
    "        'fname': 'Priya',\n",
    "        'lname': 'Gupta',\n",
    "        'age': 25,\n",
    "        'grade': 'highly skilled'\n",
    "    }\n",
    "]\n",
    "\n",
    "# Filtering employees who are highly skilled\n",
    "highly_skilled_employees = list(filter(lambda x: x['grade'] == 'highly skilled', employees))\n",
    "\n",
    "# Extracting first name and last name using map\n",
    "employee_names = list(map(lambda x: x['fname'] + ' ' + x['lname'], highly_skilled_employees))\n",
    "\n",
    "print(employee_names)"
   ]
  },
  {
   "cell_type": "code",
   "execution_count": null,
   "id": "b7197c5a-1f41-4e83-b277-c93074af157f",
   "metadata": {},
   "outputs": [],
   "source": []
  }
 ],
 "metadata": {
  "kernelspec": {
   "display_name": "Python 3 (ipykernel)",
   "language": "python",
   "name": "python3"
  },
  "language_info": {
   "codemirror_mode": {
    "name": "ipython",
    "version": 3
   },
   "file_extension": ".py",
   "mimetype": "text/x-python",
   "name": "python",
   "nbconvert_exporter": "python",
   "pygments_lexer": "ipython3",
   "version": "3.11.7"
  }
 },
 "nbformat": 4,
 "nbformat_minor": 5
}
